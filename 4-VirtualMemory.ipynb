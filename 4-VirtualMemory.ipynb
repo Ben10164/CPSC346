{
 "cells": [
  {
   "cell_type": "markdown",
   "metadata": {},
   "source": [
    "## Cache\n",
    "cache capacity: # of sets * # blocks per set * size of block\n",
    "\n",
    "### Replacement Policy:\n",
    "* Direct mapped: no choice\n",
    "* Set associative\n",
    "  * Prefer non-valid entry, if there is one\n",
    "  * Otherwise, choose among entries in the set\n",
    "* Optimal policy: Replace the block that is accessed furthest in the future\n",
    "  * Requires knowing the future\n",
    "* Predict the future from looking at the past\n",
    "  * If a block has not been used recently, it’s often less likely to be accessed in the near future (a locality argument)\n",
    "* Least-recently used (LRU)\n",
    "  * Choose the one unused for the longest time\n",
    "\n",
    "\n",
    "### Write Policy:\n",
    "* Write-through:\n",
    "  * CPU writes are cached, but also written to main memory immediately\n",
    "  * Stalling the CPU until write is completed\n",
    "  * Simple, slow\n",
    "* Write-back:\n",
    "  * CPU writes are cached, but not written to main memory until we replace the block\n",
    "  * Commonly implemented in current systems\n",
    "  * Fast, more complex\n",
    "\n",
    "\n",
    "### Write-Back with 'Dirty' Bits\n",
    "* Add 1 bit per block to record whether block has been written to.\n",
    "* Only write back dirty blocks.\n"
   ]
  },
  {
   "cell_type": "markdown",
   "metadata": {},
   "source": [
    "# Virtual Memory\n",
    "* Software Caches:\n",
    "* Same object: fake large, fast, and cheap memory\n",
    "* Conceptually similar\n",
    "* Different implementations\n",
    "\n",
    "<brk>\n",
    "\n",
    "* Use main memory as a \"cache\" for secondary (disk) storage\n",
    "  * Managed jointly by CPU hardware and the operating system (OS)\n",
    "* Programs share main memory\n",
    "  * Each gets a private virtual address space holding its frequently used code and data\n",
    "  * Protected from other programs\n",
    "\n",
    "<brk>\n",
    "\n",
    "* CPU and OS translate virtual addresses to physical addresses\n",
    "  * VM \"block\" is called a page\n",
    "  * VM translation \"miss\" is called a page fault\n",
    "\n",
    "<br>\n",
    "\n",
    "* Two kinds of addresses:\n",
    "  1. CPU (also programs) uses virtual addresses\n",
    "  1. Main memory uses physical addresses\n",
    "* Hardware translates virtual addresses to physical addresses via an operating system (OS) - Managed table\n",
    "  * the page map or page table\n",
    "* The price of VM is address translation\n",
    "\n",
    "<brk>\n",
    "\n",
    "* Assume we have 1 GB main memory: How many bits are required to represent a physical address?\n",
    "  * 30 bits: $1GB = 2^{30}$\n",
    "* In virtual memory design, you do not need the index field\n",
    "  * instead it is page number and page offset\n",
    "* Virtual address: Virtual page number + offset bits\n",
    "\n",
    "### Virtual address: Virtual page number + offset bits\n",
    "### Physical address: Physical page number + offset bits\n",
    "\n",
    "Virtual address: (v+p) bits, v: virtual page # bits, p: page offset bits  \n",
    "Physical address: (m+p) bits, m: physical page # bits, p: page offset bits\n",
    "\n",
    "1. How many virtual pages: 2^V\n",
    "2. How many physical pages: 2^M\n",
    "3. How many bytes per page: 2^P\n",
    "4. How many bytes in physical memory: 2^(M+P)\n",
    "5. How many bits in the page table: (2^V) * (M+1(Valid bit)+1(dirty bit)+1(reference bit))\n",
    "   1. for every virtual page number, we need to provide a translation\n",
    "\n",
    "### Page Table\n",
    "* Stores placement information\n",
    "  * An array of page table entries (PTE), indexed by a virtual page number\n",
    "  * Page table register in CPU points to page table\n",
    "  * \n",
    "* We need to tell if it is a valid piece of information first\n",
    "\n",
    "### Page fault\n",
    "* Replacement: To reduce page fault rate, prefer least-recently used (LRU) replacement\n",
    "  * Reference bit (aka use bit) in {TE set to 1 on access to page\n",
    "  * Periodically clear to 0 by OS\n",
    "  * A page with reference bit = 0 has not been use recently\n",
    "  * "
   ]
  },
  {
   "cell_type": "markdown",
   "metadata": {},
   "source": [
    "* v + p: bits in virtual address\n",
    "* m + p: bits in physical address\n",
    "* 2^V: # of virtual pages\n",
    "* 2^m: # of physical pages\n",
    "* 2^p: Bytes per physical page\n",
    "* 2^(m+p): bytes in physical table\n",
    "* (m+3) * 2^v: bits in the page table"
   ]
  },
  {
   "cell_type": "markdown",
   "metadata": {},
   "source": [
    "Suppose:\n",
    "* $32$-Bit virtual address\n",
    "* $2^{12}$ Page size (4KB)\n",
    "* $2^{30}$ RAM max (1GB)\n",
    "\n",
    "Then:\n",
    "* p = 12\n",
    "* v + p=32\n",
    "* v = 20\n",
    "* m + p = 30\n",
    "* m = 18\n",
    "1. \\# Physical pages = 2^18\n",
    "2. \\# Virtual pages = 2^20\n",
    "3. \\# PTE (page table entries) = 2^20\n",
    "4. \\# bits in page table =(18+3)* 2^20"
   ]
  },
  {
   "cell_type": "markdown",
   "metadata": {},
   "source": [
    "### Where to store the page table?\n",
    "* Sma; page tables can choose dedicated SRAM\n",
    "* but expensive for big ones\n",
    "* Solution: move page table to main memory\n",
    "* {ropblem: each emmory reference now takes 2 accesses"
   ]
  },
  {
   "cell_type": "markdown",
   "metadata": {},
   "source": [
    "* Exam on the 7th  \n",
    "* hw due wednesday\n",
    "\n"
   ]
  },
  {
   "cell_type": "markdown",
   "metadata": {},
   "source": [
    "* Suppose:\n",
    "    * 32-bit virtual address\n",
    "    * Page size: 4KB \n",
    "      * $2^{12}$\n",
    "    * RAM max: 1GB \n",
    "      * $2^{30}$\n",
    "* Then:\n",
    "    * /# Physical pages: 218 256K\n",
    "    * /# Virtual pages: 220\n",
    "    * /# PTE (page table entries): 220  # bits in page table: (18+3)*220\n",
    "* Use SRAM for page table???  21Mbit3MB\n",
    " "
   ]
  },
  {
   "cell_type": "markdown",
   "metadata": {},
   "source": [
    "### Where to store the page table?\n",
    "* Small page tables can choose dedicated SRAM\n",
    "* But expensive for big ones\n",
    "* Solution: move page table to main memory\n",
    "* Problem: each memory reference now takes 2 accesses\n",
    "\n",
    "### Speed up translation with a TLB\n",
    "* Problem: 2 accesses for each memory reference\n",
    "* Solution: Cache the page table entries\n",
    "* Translation Look-aside Buffer (TLB)\n",
    "  * Small full/set-associative hardware cache in MMU\n",
    "  * Lookup by VPN (Virtual Page Number"
   ]
  },
  {
   "cell_type": "markdown",
   "metadata": {},
   "source": [
    "### Multi-Level Page Tables\n",
    "* Problem: $2^{20}$ virtual pages not necessary all valid or used, but $2^{20}$ PTEs always in main memory\n",
    "* Common solution: multi-level page table\n",
    "* Example: 2-level page table\n",
    "\n",
    "Example: \n",
    "* 2-Level Page Table (10 pointers on outer table, each inner table is of length 1024)\n",
    "* So like the outer table contains pointers, and each ptr points to a new table\n",
    "* This can contain 10x1024 values\n",
    "  * for each outer table pointer, there is a new table of length 1024"
   ]
  }
 ],
 "metadata": {
  "kernelspec": {
   "display_name": "Python 3.11.0 ('base')",
   "language": "python",
   "name": "python3"
  },
  "language_info": {
   "name": "python",
   "version": "3.9.13"
  },
  "orig_nbformat": 4,
  "vscode": {
   "interpreter": {
    "hash": "5f8c5c8ab154ffd7b7cf769370d90abd279d12a3d937a702f83e9fc02204b3d3"
   }
  }
 },
 "nbformat": 4,
 "nbformat_minor": 2
}
