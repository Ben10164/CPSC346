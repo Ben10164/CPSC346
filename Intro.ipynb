{
 "cells": [
  {
   "cell_type": "markdown",
   "metadata": {},
   "source": [
    "Office hours after class. M: 2:10 - 4:10, W: 2:45 - 4:45  \n",
    "hardcopy code turnins (maybe)  \n",
    "grading:\n",
    "* homework: 20%\n",
    "* projects: 30%\n",
    "* midterms: 30%\n",
    "* final: 20%\n",
    "\n",
    "Book(s):  \n",
    "OS concepts Essentials, as well as uses the 260 textbook"
   ]
  },
  {
   "cell_type": "markdown",
   "metadata": {},
   "source": [
    "Topics:\n",
    "* Operating System Organization\n",
    "* Architecture Support (x86 architecture)\n",
    "* Concurrency: Processes and Threads, CPU Scheduling\n",
    "* Memory Management\n",
    "* I/O, File Systems\n",
    "* Network/Security"
   ]
  },
  {
   "cell_type": "markdown",
   "metadata": {},
   "source": [
    "Reading assignment in the Operating System book: Pages 3-30"
   ]
  },
  {
   "cell_type": "markdown",
   "metadata": {},
   "source": [
    "#### What is an Operating System?\n",
    "* The code that Microsoft, Apple, Linux, Google provides\n",
    "* The code that you *didn't* write\n",
    "* The code that makes things work / crash\n",
    "\n",
    "Providing an appropriate interface for applications.  \n",
    "A program that acts as an intermediary between a user of a computer and the computer hardware.  \n",
    "Make the computer system convenient to use.  \n",
    "Use the hardware efficiently.  \n",
    "\n",
    "Operating System Structure:\n",
    "* Hardware\n",
    "* Operating System\n",
    "* Application\n",
    "* User / Server\n",
    "\n"
   ]
  },
  {
   "cell_type": "markdown",
   "metadata": {},
   "source": [
    "### Two Modes\n",
    "* OS : kernel mode\n",
    "    * Privileged Mode\n",
    "    * Access to all hardware\n",
    "* All other software : user mode\n",
    "    * When needs to deal with hardware, OS will take care of it.\n",
    "* OS is trusted; user is not\n",
    "* OS has super-privileges"
   ]
  },
  {
   "cell_type": "markdown",
   "metadata": {},
   "source": [
    "### Two Tasks of OS\n",
    "* Shield the user from the complexity of the underlying hardware\n",
    "* Allocate resources to competing users\n",
    "\n",
    "Read/Write in C\n",
    "* open(), close(), scanf(), printf(), etc.\n",
    "* But (to use an old example) NEC PD765 controller for floppy disk drive has:\n",
    "    * 16 commands to read, write, move disk arm, format tracks\n",
    "    * read/write has 13 parameters that specify sectors/track, etc.\n",
    "    * commands to monitor the status of the motor (arm)\n",
    "    * after each operation chip returns to 23 status and error fields\n",
    "\n",
    "Resource Allocator\n",
    "* OS allocates:\n",
    "    * CPU\n",
    "    * printer\n",
    "    * memory\n",
    "    * etc.\n",
    "\n",
    "* Evolution of OS traces these two functions:\n",
    "    * shield the user\n",
    "    * resource allocator\n",
    "\n",
    "5 Primary Tasks:\n",
    "1. Process Management\n",
    "1. Memory Management\n",
    "1. Storage Management\n",
    "1. IO Subsystem\n",
    "1. Security and Protection"
   ]
  },
  {
   "cell_type": "markdown",
   "metadata": {},
   "source": [
    "```c\n",
    "// assume j is allocated right below a[99] and i is allocated right above a[0]\n",
    "int main(){\n",
    "    int j = 8;\n",
    "    int a[100];\n",
    "    int i;\n",
    "    for(i = 0; i<=100;i++) a[i] = i;\n",
    "    printf(\"%d\\n\", j);\n",
    "}\n",
    "// what does this output?\n",
    "// it does 100, because it is overwritten during a[100] = 100\n",
    "\n",
    "// write a swap function to swap two entires of an array\n",
    "\n",
    "// write a selection sort function to make an array sorted\n",
    "```\n"
   ]
  },
  {
   "cell_type": "markdown",
   "metadata": {},
   "source": [
    "the core will always be executing things (cpu)  \n",
    "you need a place to store all the data (memory)  \n",
    "hardware needs software\n",
    "\n",
    "software has two pieces (types):\n",
    "1. system, help the application (next piece) use the hardware\n",
    "2. application\n",
    "\n",
    "C is a high level language (h.l.l):  \n",
    "this means it is not binary, it is not assembly.  \n",
    "\n",
    "steps:\n",
    "1. Compile the C code using a ***Compiler*** resulting with assembly code\n",
    "    * (l.l.l, low level language) (NOTE: the architecture of the system will slightly change the assembly code)  \n",
    "1. Compile the assembly code using the ***Assembler*** resulting with a binary file\n",
    "1. Link the binary with other libraries using the ***Linker*** resulting with an executable machine code\n",
    "1. Load the machine code executable with a ***Loader*** resulting with an executable in memory\n",
    "\n"
   ]
  },
  {
   "cell_type": "markdown",
   "metadata": {},
   "source": [
    "C Notes\n",
    "```c\n",
    "printf()// is like cout\n",
    "```\n",
    "`gcc code.c` will output `a.out`  \n",
    "`gcc -o output code.c` will output `output`  \n",
    "\n",
    "```c\n",
    "// Declarations reserve memory space (on the stack)\n",
    "int main(){\n",
    "    int i;\n",
    "    float f;\n",
    "    char c;\n",
    "\n",
    "    // so at this time, if we output these values they will be junk\n",
    "    i = 20;\n",
    "    c = 'g';\n",
    "    // now i is good :)\n",
    "\n",
    "    printf(\"%d\\5%c\\n\", i, c);\n",
    "    // the %d is printing a decimal, c char, etc\n",
    "    // special characters; \\n - newline \\t tab \\b backspace \\\" double quote \\\\ backslash\n",
    "\n",
    "    int x;\n",
    "    scanf(\"%d\", &x); // pass by address\n",
    "    // this modifies the address of x by whatever is inputed in the terminal (it is interpereted as a decimal (%d))\n",
    "    \n",
    "    prinf(\"%d\\n\", sizeof(i));\n",
    "    // this will print the number of bytes the type of i takes up\n",
    "\n",
    "    return 0;\n",
    "}\n",
    "```"
   ]
  },
  {
   "cell_type": "markdown",
   "metadata": {},
   "source": [
    "array time\n",
    "```c\n",
    "int main(){\n",
    "    int a[100];\n",
    "    // this goes from a[0] to a[99]\n",
    "    int i;\n",
    "    for (i = 0; i <= 100; i ++)\n",
    "        a[i] = i; \n",
    "    // so this is ahh, because it is <= to 100, meaning it is accessing a value that isnt there\n",
    "    // so c will dynamically resize it, which seems good, but yikes memory bad\n",
    "}\n",
    "```"
   ]
  },
  {
   "cell_type": "markdown",
   "metadata": {},
   "source": [
    "function time\n",
    "```c\n",
    "int test();\n",
    "// need to be ahead of main, or have a prototype\n",
    "int test(){\n",
    "    return 0;\n",
    "}\n",
    "\n",
    "int main(){\n",
    "    test();\n",
    "}\n",
    "```\n",
    "\n",
    "stdio.h is a standard header file\n",
    "```c\n",
    "#define SIZE = 100\n",
    "// this is defining a constant\n",
    "```"
   ]
  },
  {
   "cell_type": "markdown",
   "metadata": {},
   "source": [
    "struct\n",
    "```c\n",
    "struct ComplexNumber{\n",
    "    float real;\n",
    "    float imag;\n",
    "};\n",
    "\n",
    "struct Node{\n",
    "    int* pointer;\n",
    "    int value;\n",
    "};\n",
    "\n",
    "struct ComplexNumber x; // all the data fields are PUBLIC!\n",
    "x.real = 3.1;\n",
    "x.imag = 4.7;\n",
    "\n",
    "struct ComplexNumber x, *y; // since it will be a pointer, y must be an address\n",
    "y = &x;\n",
    "y ->real = 3.1;\n",
    "\n",
    "struct ComplexNumber ComplexAdd(struct ComplexNumber a1, struct ComplexNumber a2){\n",
    "    struct ComplexNumber result;\n",
    "    // calculate these\n",
    "    return result; // this is type struct\n",
    "}\n",
    "\n",
    "// when it is a pointer you use ->, vs a . for when its not\n",
    "```"
   ]
  },
  {
   "cell_type": "markdown",
   "metadata": {},
   "source": [
    "the grader will use ADA, which we will go over"
   ]
  }
 ],
 "metadata": {
  "kernelspec": {
   "display_name": "Python 3.9.13 ('base')",
   "language": "python",
   "name": "python3"
  },
  "language_info": {
   "name": "python",
   "version": "3.9.13"
  },
  "orig_nbformat": 4,
  "vscode": {
   "interpreter": {
    "hash": "5f8c5c8ab154ffd7b7cf769370d90abd279d12a3d937a702f83e9fc02204b3d3"
   }
  }
 },
 "nbformat": 4,
 "nbformat_minor": 2
}
