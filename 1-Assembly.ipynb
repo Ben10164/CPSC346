{
 "cells": [
  {
   "cell_type": "markdown",
   "metadata": {},
   "source": [
    "#### context switching\n",
    "when switching between processess, there are a few bits of information that need to be saved:\n",
    "* %rip (the register instruction pointer)\n",
    "    * this is the pointer that is pointing to the next instruction that the cpu will execute\n",
    "\n",
    "THe code section of memory is read only.\n",
    "\n",
    "Process:  \n",
    "|Process|\n",
    "|-|\n",
    "|Stack|\n",
    "|stack contents|\n",
    "|heap|\n",
    "|data|\n",
    "|code|\n",
    "|grows in this direction (downward)|"
   ]
  },
  {
   "cell_type": "markdown",
   "metadata": {},
   "source": [
    "### Registers:  \n",
    "There are 16 general purpose registers in 64-bit x86 architecture.   \n",
    "There are 8 general purpose registers in 32-bit x86 architecture.\n",
    "\n",
    "%rbp(%ebp) is used as a **frame/base pointer** (Bottom of the stack).  \n",
    "%rsp(%esp) is used as a **stack pointer** (Top of the stack).\n",
    "\n",
    "### Stack:  \n",
    "The main feature of operations on stack: LIFO (Last In First Out) / FILO (First In Last Out)  \n",
    "Instructions that modifies stack include: **Push** and **Pop** \n",
    "* Push moves the stack pointer down 4 bits in 32bit (8 in 64bit) and sets the value of the new address the stack pointer is pointing to whatever was passed in to \n",
    "* Pop sets the value of whatever was passed in to the value of the stack pointer, then moves the stack pointer up 4 in 32bit (8 in 64bit)\n",
    "\n",
    "### Function Calls:  \n",
    "Pass control. Instructions pass control between caller and collee %rip and CPU.  \n",
    "* RIP remains on the next executable line in main().\n",
    "* Old Base pointer stored. Call and returns instruction, both alter stack and instruction pointer.  \n",
    "\n",
    "Pass data: What's the data exchange between caller and callee?  \n",
    "*  The return value is always put into %rax\n",
    "\n",
    "How does x86 implement \"Pass data\" for function calls?\n",
    "\n",
    "\n",
    "Why do the programs sometimes need to save register values before using the register?\n",
    "\n",
    "What are caller-saved registers?\n",
    "\n",
    "What are calle-saved registers?\n",
    "\n",
    "When the CPU needs to switch the current process to another one, what information related to the process needs to be preserved? So next time when it becomes active it can continue from where it was \"paused\"."
   ]
  },
  {
   "cell_type": "markdown",
   "metadata": {},
   "source": []
  }
 ],
 "metadata": {
  "kernelspec": {
   "display_name": "Python 3.10.6 ('base')",
   "language": "python",
   "name": "python3"
  },
  "language_info": {
   "name": "python",
   "version": "3.10.6"
  },
  "orig_nbformat": 4,
  "vscode": {
   "interpreter": {
    "hash": "5f8c5c8ab154ffd7b7cf769370d90abd279d12a3d937a702f83e9fc02204b3d3"
   }
  }
 },
 "nbformat": 4,
 "nbformat_minor": 2
}
