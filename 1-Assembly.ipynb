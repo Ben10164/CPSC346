{
 "cells": [
  {
   "cell_type": "markdown",
   "metadata": {},
   "source": [
    "#### context switching\n",
    "when switching between processess, there are a few bits of information that need to be saved:\n",
    "* %rip (the register instruction pointer)\n",
    "    * this is the pointer that is pointing to the next instruction that the cpu will execute\n",
    "\n",
    "THe code section of memory is read only.\n",
    "\n",
    "Process:  \n",
    "|Process|\n",
    "|-|\n",
    "|Stack|\n",
    "|stack contents|\n",
    "|heap|\n",
    "|data|\n",
    "|code|\n",
    "|grows in this direction (downward)|"
   ]
  },
  {
   "cell_type": "markdown",
   "metadata": {},
   "source": [
    "### Registers:  \n",
    "There are 16 general purpose registers in 64-bit x86 architecture.   \n",
    "There are 8 general purpose registers in 32-bit x86 architecture.\n",
    "\n",
    "%rbp(%ebp) is used as a **frame/base pointer** (Bottom of the stack).  \n",
    "%rsp(%esp) is used as a **stack pointer** (Top of the stack).\n",
    "\n",
    "### Stack:  \n",
    "The main feature of operations on stack: LIFO (Last In First Out) / FILO (First In Last Out)  \n",
    "Instructions that modifies stack include: **Push** and **Pop** \n",
    "* Push moves the stack pointer down 4 bits in 32bit (8 in 64bit) and sets the value of the new address the stack pointer is pointing to whatever was passed in to \n",
    "* Pop sets the value of whatever was passed in to the value of the stack pointer, then moves the stack pointer up 4 in 32bit (8 in 64bit)\n",
    "\n",
    "### Function Calls:  \n",
    "Pass control. Instructions pass control between caller and collee %rip and CPU.  \n",
    "* RIP remains on the next executable line in main().\n",
    "* Old Base pointer stored. Call and returns instruction, both alter stack and instruction pointer.  \n",
    "\n",
    "Pass data: What's the data exchange between caller and callee?  \n",
    "*  The return value is always put into %rax\n",
    "\n",
    "How does x86 implement \"Pass data\" for function calls?\n",
    "\n",
    "\n",
    "Why do the programs sometimes need to save register values before using the register?\n",
    "\n",
    "What are caller-saved registers?\n",
    "\n",
    "What are calle-saved registers?\n",
    "\n",
    "When the CPU needs to switch the current process to another one, what information related to the process needs to be preserved? So next time when it becomes active it can continue from where it was \"paused\"."
   ]
  },
  {
   "cell_type": "markdown",
   "metadata": {},
   "source": [
    "`Kernel mode`: User mode and Privilege mode.  \n",
    "It will go to the privileged mode when it is distributing the processes:\n",
    "* Interrupt, exceptions, and inputs (like mouse or keyboard, because they need immediate response)"
   ]
  },
  {
   "cell_type": "markdown",
   "metadata": {},
   "source": [
    "```c\n",
    "1. callq: Fetched by CPU. But not executed yet.\n",
    "    %rip = \n",
    "    %rsp = \n",
    "2. Right after Callq is executed.\n",
    "    %rip = \n",
    "    %rsp =\n",
    "```"
   ]
  },
  {
   "cell_type": "markdown",
   "metadata": {},
   "source": [
    "## Process\n",
    "* A program in execution\n",
    "* containers for programs\n",
    "    * virtual memory\n",
    "    * scheduling \n",
    "\n",
    "## Fair Share\n",
    "even if a program is running forever `while(1)`, it is still taking turns inside the cpu\n",
    "\n",
    "# Architectural Support for the OS\n",
    "* Not all instructions are created equal ...\n",
    "    * Non-privileged instructions\n",
    "        * can affect only the current program\n",
    "    * privileged instructions\n",
    "        * may affect entire systems\n",
    "\n",
    "Which instructions should be privileged?\n",
    "* I/O instructions\n",
    "* those that affect how memory is mapped\n",
    "* halt instruction\n",
    "\n",
    "Who is privileged?\n",
    "* You are not\n",
    "* only the operating-system kernel is\n",
    "\n",
    "\n",
    "\n",
    "Entering privileged mode:\n",
    "* How is OS invoked?\n",
    "    * Very carefully ...\n",
    "    * Strictly on response to interrupts and exceptions\n",
    "\n",
    "Interrupts and exceptions:\n",
    "* Thins don't always go smoothly\n",
    "    * IO devices demand attention\n",
    "    * timers expire\n",
    "    * Programs demand OS services\n",
    "    * programs demand storage be made accessible\n",
    "    * programs have problems\n",
    "* Interuprs\n",
    "    * demand for attention by external spurces\n",
    "* exceptions\n",
    "    * programms running demand attention\n",
    "\n",
    "Cont.\n",
    "* Interrupt or exception invokes handler (in OS)\n",
    "    * via interrupt and exception vector\n",
    "    * one entry for each possible interrupt/exception\n",
    "        * contains:\n",
    "            * address of handler\n",
    "        * code executed in privileged mode\n",
    "    \n",
    "```c\n",
    "#include <unistd.h>\n",
    "int main(){\n",
    "    pid_t pid;\n",
    "    if((pid = fork()) == 0){\n",
    "        /* new process starts running here */\n",
    "    }\n",
    "    /* old process contrunues here */\n",
    "}\n",
    "```"
   ]
  },
  {
   "cell_type": "markdown",
   "metadata": {},
   "source": [
    "|parent: 27342|\n",
    "|-|\n",
    "|pid = 27355|\n",
    "|ParentPid = 27432 |\n",
    "|fork() <- IP |\n",
    "\n",
    "---\n",
    "|child: 27355|\n",
    "|-|\n",
    "|pid = 0 |\n",
    "|ParentPid = 27342|\n",
    "|fork() <- code|\n"
   ]
  },
  {
   "cell_type": "markdown",
   "metadata": {},
   "source": [
    "```c\n",
    "int main(){\n",
    "    pid_t pid;\n",
    "    pid_t = ParentPid = getpid(); // parentPid is set for parent\n",
    "    if((pid = fork() == 0{ \n",
    "        // child is created, with a parentPid being the parentPid since it is a copy\n",
    "        // the child pid val is set to 0\n",
    "        // the \n",
    "        printf(\"Child: %d, %d, %d\\n\", pid, ParentPid, getpid());\n",
    "        // prints 0, 27342, 27355\n",
    "        return 0;\n",
    "    }\n",
    "    printf(\"Parent: %d, %d, %d\\n\", pid, ParentPid, getpid());\n",
    "    // prints  27355, 27342, 27342\n",
    "    return 0;\n",
    "}\n",
    "// because what the program prints depends on the cpu scheduling, it's output will not be consistent\n",
    "```"
   ]
  },
  {
   "cell_type": "markdown",
   "metadata": {},
   "source": [
    "```c\n",
    "int flag; // global val will always get a value, so it is set to 0 (but if it was a pointer it would be null)\n",
    "int main(){\n",
    "    while(flag ==0){\n",
    "        if(fork() == 0){\n",
    "            flag = 1;\n",
    "            exit(0); // caise process to termiante\n",
    "        }\n",
    "    }\n",
    "}\n",
    "```\n",
    "Parent is infinite, and the child is always terminated"
   ]
  },
  {
   "cell_type": "markdown",
   "metadata": {},
   "source": [
    "Forks are called once and returned twice:  \n",
    "returned to the parent and to the child"
   ]
  },
  {
   "cell_type": "markdown",
   "metadata": {},
   "source": [
    "One Stack per mode:\n",
    "|User Stack|\n",
    "|-|\n",
    "|Frame 1|\n",
    "|Frame 2|\n",
    "  \n",
    "\n",
    "|Kernel Stack|\n",
    "|-|\n",
    "|Intrp/Excp Frame|\n",
    "|Frame 3|\n",
    "|Frame 4|"
   ]
  },
  {
   "cell_type": "markdown",
   "metadata": {},
   "source": [
    "### Exceptions\n",
    "An exception is a transfer of control to the OS kernel in response to some event  \n",
    "Event -> `I_current` -> User Code -> **Exception** -> Kernel code -> Exceptioon processing by exception handler -> returns to `I_current`\n",
    "\n",
    "Examples of exceptions: \n",
    "* Divide by 0\n",
    "* Arithmetic overflow\n",
    "* Page fault\n",
    "* I/O request completes\n",
    "* Ctrl-C\n",
    "\n",
    "Eacj x84-64 system call has a unique ID number  \n",
    "|Number|Name|Description|\n",
    "|-|-|-|\n",
    "|0|read|Read file|\n",
    "|1|write|Write file|\n",
    "|2|open|Open file|\n",
    "|3|close|Close file|\n",
    "|4|stat| Get info about file|\n",
    "|57|fork|Create process|\n",
    "|59|execve| Execute a program|\n",
    "|60|_exit|Terminate process|\n",
    "|62|kill|Send signal to process|"
   ]
  },
  {
   "cell_type": "markdown",
   "metadata": {},
   "source": [
    "### System Call Example: Opening File\n",
    "* User calls: open(filename, options)\n",
    "* Calls _open function, which invokes system call instruction syscall\n",
    "\n",
    "```assembly\n",
    "mov $0x2, %eax # open is syscall 2\n",
    "syscall # return value in %rax\n",
    "cmp $0xfffffffffffffffff001, %rax # this tries to read the value of %rax, making sure that it can actually be read (not corrupt)\n",
    "```\n",
    "syscall passes the control, then after completing returns to the same spot  \n",
    "follows the same calling convention  \n",
    "\n",
    "Fault example: Page Fault:  \n",
    "User writes to memory location  \n",
    "That portion (page) of user's memory is currently on disk\n",
    "```assembly\n",
    "movl $0xd, 0x8049d10\n",
    "```"
   ]
  },
  {
   "cell_type": "markdown",
   "metadata": {},
   "source": [
    "```c\n",
    "int main(){\n",
    "    int value = 5;\n",
    "    pid_t pid;\n",
    "    if((pid = fork()) == 0){ /* child process */\n",
    "        value += 15;\n",
    "        printf(\"CHILD: value = %d\\n\", value);\n",
    "        return 0l\n",
    "    }\n",
    "    else if( pid > 0){ /* parent process */\n",
    "        printf(\"PARENT: value = %d\\n\", value);\n",
    "        return 0;\n",
    "    }\n",
    "}\n",
    "```"
   ]
  },
  {
   "cell_type": "markdown",
   "metadata": {},
   "source": [
    "```c\n",
    "int main(){\n",
    "    int x = 1;\n",
    "    if(fork() == 0){\n",
    "        printf(\"p1: x=%d\\n\", ++x); \n",
    "        // p1; 2 (child)\n",
    "    } \n",
    "    printf(\"p2: x=%d\\n\", --x); \n",
    "    // p2: 1 (child because its not in an else statement it is still executed)\n",
    "    // p2: 0 (parent)\n",
    "    exit(0);\n",
    "}\n",
    "```"
   ]
  },
  {
   "cell_type": "markdown",
   "metadata": {},
   "source": [
    "```c\n",
    "int main()\n",
    "{ \n",
    "    int value = 5;\n",
    "    pid_t pid;\n",
    "    if ((pid = fork()) == 0){\n",
    "        value += 15;\n",
    "        printf(\"CHILD: value = %d\\n\",value);\n",
    "        return 0;\n",
    "    }\n",
    "    else if(pid>0){\n",
    "        wait(NULL); // waits for the child to finish\n",
    "        // you could also pass in a specific pid_t for the parent to wait until that specific pid_t is done\n",
    "        printf(\"PARENT: value = %d\\n\",value);\n",
    "        return 0;\n",
    "    }\n",
    "}\n",
    "\n",
    "```"
   ]
  }
 ],
 "metadata": {
  "kernelspec": {
   "display_name": "Python 3.10.6 ('base')",
   "language": "python",
   "name": "python3"
  },
  "language_info": {
   "name": "python",
   "version": "3.9.13"
  },
  "orig_nbformat": 4,
  "vscode": {
   "interpreter": {
    "hash": "5f8c5c8ab154ffd7b7cf769370d90abd279d12a3d937a702f83e9fc02204b3d3"
   }
  }
 },
 "nbformat": 4,
 "nbformat_minor": 2
}
