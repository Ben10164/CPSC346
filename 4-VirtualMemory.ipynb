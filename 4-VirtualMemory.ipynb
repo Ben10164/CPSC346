{
 "cells": [
  {
   "cell_type": "markdown",
   "metadata": {},
   "source": [
    "## Cache\n",
    "cache capacity: # of sets * # blocks per set * size of block\n",
    "\n",
    "### Replacement Policy:\n",
    "* Direct mapped: no choice\n",
    "* Set associative\n",
    "  * Prefer non-valid entry, if there is one\n",
    "  * Otherwise, choose among entries in the set\n",
    "* Optimal policy: Replace the block that is accessed furthest in the future\n",
    "  * Requires knowing the future\n",
    "* Predict the future from looking at the past\n",
    "  * If a block has not been used recently, it’s often less likely to be accessed in the near future (a locality argument)\n",
    "* Least-recently used (LRU)\n",
    "  * Choose the one unused for the longest time\n",
    "\n",
    "\n",
    "### Write Policy:\n",
    "* Write-through:\n",
    "  * CPU writes are cached, but also written to main memory immediately\n",
    "  * Stalling the CPU until write is completed\n",
    "  * Simple, slow\n",
    "* Write-back:\n",
    "  * CPU writes are cached, but not written to main memory until we replace the block\n",
    "  * Commonly implemented in current systems\n",
    "  * Fast, more complex\n",
    "\n",
    "\n",
    "### Write-Back with 'Dirty' Bits\n",
    "* Add 1 bit per block to record whether block has been written to.\n",
    "* Only write back dirty blocks.\n"
   ]
  },
  {
   "cell_type": "markdown",
   "metadata": {},
   "source": [
    "# Virtual Memory\n",
    "* Software Caches:\n",
    "* Same object: fake large, fast, and cheap memory\n",
    "* Conceptually similar\n",
    "* Different implementations\n",
    "\n",
    "<brk>\n",
    "\n",
    "* Use main memory as a \"cache\" for secondary (disk) storage\n",
    "  * Managed jointly by CPU hardware and the operating system (OS)\n",
    "* Programs share main memory\n",
    "  * Each gets a private virtual address space holding its frequently used code and data\n",
    "  * Protected from other programs\n",
    "\n",
    "<brk>\n",
    "\n",
    "* CPU and OS translate virtual addresses to physical addresses\n",
    "  * VM \"block\" is called a page\n",
    "  * VM translation \"miss\" is called a page fault\n",
    "\n",
    "<br>\n",
    "\n",
    "* Two kinds of addresses:\n",
    "  1. CPU (also programs) uses virtual addresses\n",
    "  1. Main memory uses physical addresses\n",
    "* Hardware translates virtual addresses to physical addresses via an operating system (OS) - Managed table\n",
    "  * the page map or page table\n",
    "* The price of VM is address translation\n",
    "\n",
    "<brk>\n",
    "\n",
    "* Assume we have 1 GB main memory: How many bits are required to represent a physical address?\n",
    "  * 30 bits: $1GB = 2^{30}$\n",
    "* In virtual memory design, you do not need the index field\n",
    "  * instead it is page number and page offset\n",
    "* Virtual address: Virtual page number + offset bits\n",
    "\n",
    "\n",
    "\n",
    "<br>\n",
    "\n",
    "1. How many virtual pages: 2^V\n",
    "2. How many physical pages: 2^M\n",
    "3. How many bytes per page: 2^P\n",
    "4. How many bytes in physical memory: 2^(M+P)\n",
    "5. How many bits in the page table: "
   ]
  }
 ],
 "metadata": {
  "kernelspec": {
   "display_name": "Python 3.11.0 ('base')",
   "language": "python",
   "name": "python3"
  },
  "language_info": {
   "name": "python",
   "version": "3.11.0"
  },
  "orig_nbformat": 4,
  "vscode": {
   "interpreter": {
    "hash": "5f8c5c8ab154ffd7b7cf769370d90abd279d12a3d937a702f83e9fc02204b3d3"
   }
  }
 },
 "nbformat": 4,
 "nbformat_minor": 2
}
