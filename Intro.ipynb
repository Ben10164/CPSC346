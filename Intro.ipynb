{
 "cells": [
  {
   "cell_type": "markdown",
   "metadata": {},
   "source": [
    "Office hours after class. M: 2:10 - 4:10, W: 2:45 - 4:45  \n",
    "hardcopy code turnins (maybe)  \n",
    "grading:\n",
    "* homework: 20%\n",
    "* projects: 30%\n",
    "* midterms: 30%\n",
    "* final: 20%\n",
    "\n",
    "Book(s):  \n",
    "OS concepts Essentials, as well as uses the 260 textbook"
   ]
  },
  {
   "cell_type": "markdown",
   "metadata": {},
   "source": [
    "Topics:\n",
    "* Operating System Organization\n",
    "* Architecture Support (x86 architecture)\n",
    "* Concurrency: Processes and Threads, CPU Scheduling\n",
    "* Memory Management\n",
    "* I/O, File Systems\n",
    "* Network/Security"
   ]
  },
  {
   "cell_type": "markdown",
   "metadata": {},
   "source": [
    "Reading assignment in the Operating System book: Pages 3-30"
   ]
  },
  {
   "cell_type": "markdown",
   "metadata": {},
   "source": [
    "#### What is an Operating System?\n",
    "* The code that Microsoft, Apple, Linux, Google provides\n",
    "* The code that you *didn't* write\n",
    "* The code that makes things work / crash\n",
    "\n",
    "Providing an appropriate interface for applications.  \n",
    "A program that acts as an intermediary between a user of a computer and the computer hardware.  \n",
    "Make the computer system convenient to use.  \n",
    "Use the hardware efficiently.  \n",
    "\n",
    "Operating System Structure:\n",
    "* Hardware\n",
    "* Operating System\n",
    "* Application\n",
    "* User / Server\n",
    "\n"
   ]
  },
  {
   "cell_type": "markdown",
   "metadata": {},
   "source": [
    "### Two Modes\n",
    "* OS : kernel mode\n",
    "    * Privileged Mode\n",
    "    * Access to all hardware\n",
    "* All other software : user mode\n",
    "    * When needs to deal with hardware, OS will take care of it.\n",
    "* OS is trusted; user is not\n",
    "* OS has super-privileges"
   ]
  },
  {
   "cell_type": "markdown",
   "metadata": {},
   "source": [
    "### Two Tasks of OS\n",
    "* Shield the user from the complexity of the underlying hardware\n",
    "* Allocate resources to competing users\n",
    "\n",
    "Read/Write in C\n",
    "* open(), close(), scanf(), printf(), etc.\n",
    "* But (to use an old example) NEC PD765 controller for floppy disk drive has:\n",
    "    * 16 commands to read, write, move disk arm, format tracks\n",
    "    * read/write has 13 parameters that specify sectors/track, etc.\n",
    "    * commands to monitor the status of the motor (arm)\n",
    "    * after each operation chip returns to 23 status and error fields\n",
    "\n",
    "Resource Allocator\n",
    "* OS allocates:\n",
    "    * CPU\n",
    "    * printer\n",
    "    * memory\n",
    "    * etc.\n",
    "\n",
    "* Evolution of OS traces these two functions:\n",
    "    * shield the user\n",
    "    * resource allocator\n",
    "\n",
    "5 Primary Tasks:\n",
    "1. Process Management\n",
    "1. Memory Management\n",
    "1. Storage Management\n",
    "1. IO Subsystem\n",
    "1. Security and Protection"
   ]
  }
 ],
 "metadata": {
  "kernelspec": {
   "display_name": "Python 3.9.13 ('base')",
   "language": "python",
   "name": "python3"
  },
  "language_info": {
   "name": "python",
   "version": "3.9.13"
  },
  "orig_nbformat": 4,
  "vscode": {
   "interpreter": {
    "hash": "5f8c5c8ab154ffd7b7cf769370d90abd279d12a3d937a702f83e9fc02204b3d3"
   }
  }
 },
 "nbformat": 4,
 "nbformat_minor": 2
}
