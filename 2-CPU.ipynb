{
 "cells": [
  {
   "cell_type": "markdown",
   "metadata": {
    "slideshow": {
     "slide_type": "slide"
    }
   },
   "source": [
    "# Priority Scheduling\n",
    "* A priority number (integer) is associated with each process\n",
    "* The CPU is allocated to the process with the highest priority (the smallest integer → the highest priority)\n",
    "    * preemptive\n",
    "    * non-preemptive\n",
    "* SJF is priority scheduling where priority is the inverse of predicted next CPU burst time\n",
    "* Problem → Starvation, low priority processes may never execute\n",
    "* solution → aging, as time progresses, increase the priority of the process"
   ]
  },
  {
   "cell_type": "markdown",
   "metadata": {},
   "source": [
    "# Process states:\n",
    "* FIFO, SJO, SRT, Priority, Round Robin\n",
    "* new: Process being created\n",
    "* running: instructions being executed\n",
    "* waiting: the process is waiting for an event to occur \n",
    "* ready: waiting to be assigned to a processor\n",
    "* Terminated: The process has finished execution\n",
    "\n",
    "Note: Short-term scheduler: selects from among the processes in queue and allocates the CPU to one of them"
   ]
  },
  {
   "cell_type": "markdown",
   "metadata": {},
   "source": [
    "# CPU scheduling decisions:\n",
    "1. switches from running to waiting state, ex. I/O request or invocation of the wait()\n",
    "1. Switches from running to ready\n",
    "1. switches from waiting to ready\n",
    "1. terminates\n",
    "    * scheduling for 1 and 4 is non-preemptive and cooperative\n",
    "    * Once a process starts running, keeps running until blocked or finished\n",
    "    * All other scheduling is preemptive"
   ]
  },
  {
   "cell_type": "markdown",
   "metadata": {},
   "source": [
    "# Scheduling Criteria:\n",
    "* Throughput: # of processes that complete per unit of time\n",
    "* Turnaround Time: Amount of time to execute a process\n",
    "* waiting time: Amount of time a process is waiting in queue\n",
    "* Response Time: amount of time to get the first response"
   ]
  },
  {
   "cell_type": "markdown",
   "metadata": {},
   "source": [
    "### Gantt Chart: type of bar chart that illustrates a project schedule\n",
    "\n",
    "<h5>Ex.</h5>\n",
    "\n",
    "Process:\n",
    "* p1  24\n",
    "* p2  3\n",
    "* p3  3\n",
    "\n",
    "|C.P.U Burst| P1|P2|P3|\n",
    "|----------|---------|-|-|\n",
    "|I/O|24|27|30|\n",
    "\n",
    "waiting time: P1 = 0; p2 = 24; p3 = 27\n",
    "\n",
    "New ex.\n",
    "\n",
    "|Process|C.P.U|I/O|C.P.U|Arrival|=>||R.S|W.T|T.T|\n",
    "|--|--|--|--|--|-|-|-|-|-|\n",
    "|P1|5|6|7|0||11|0|(0-0)+(16-11)=5|23|\n",
    "|P2|4|3|3|3||12|5-3=2|(5-3)+(23-12)=13|26-3=23|\n",
    "|P3|2|3|4|4||14|9-4=5|(9-4)+(26-14)=17|30-4=26|\n",
    "|P4|5|2|7|7||18|11-7=4|(11-7)+(33-18)=19|40-7=33|\n",
    "|P5|3|2|4|15||35|30-15=15|(30-15)+(40-35)=20|44-15|\n",
    "\n",
    "Produces this Gantt chart:\n",
    "||P1|P2|P3|P4|P1|P2|P3|P5|P4|P5|End|\n",
    "|-|-------|-|-|-|-|-|-|-|-|-|-|\n",
    "|I/O|0|5|9|11|16|23|26|30|33|40|44|\n",
    "\n"
   ]
  },
  {
   "cell_type": "markdown",
   "metadata": {},
   "source": [
    "# Round Robin\n",
    "* preemptive FIFO\n",
    "* Time quantum q\n",
    "    * When large q -> FIFO\n",
    "    * small q -> q should be larger than context switching\n",
    "* high avg. Turnaround, but better response"
   ]
  },
  {
   "cell_type": "markdown",
   "metadata": {},
   "source": [
    "### Round Robin Example\n",
    "|process|arrival|CPU|RT|WT|TT|\n",
    "|-|-|-|-|-|-|\n",
    "|p1|0->5;13->(16)|8->3->0|0|0+(13-5)=8 | 16-0=16|\n",
    "|p2|3->(8)| 3->0| 5-3=2|2 | 8-3=5|\n",
    "|p3|4->13; 26->(31)|10->5->0|8-4=4 |4+(26-13)=17 |31-4=27 |\n",
    "|p4|6->21; 31->(35)|9->4->0| 16-6=10|10+(31-21)=20 |35-6=29 |\n",
    "|p5|11-26; 35->(37)|7->2->0|21-11=10 |10+(35-26)=19 |37-11=26 |\n",
    "\n",
    "|p1|p2|p3|p1|p4|p5|p3|\n",
    "|-|-|-|-|-|-|-|\n",
    "|0->5|5->8|8->13|13->16|16->21|21->26|26->31|31->35|35->37|"
   ]
  },
  {
   "cell_type": "markdown",
   "metadata": {},
   "source": [
    "Response Time:  \n",
    "* CPU - Arrival  \n",
    "\n",
    "Wait Time:  \n",
    "* RT + Time waiting while started yet unfinished\n",
    "\n",
    "Turnaround Time\n",
    "* End - Arrival  "
   ]
  },
  {
   "cell_type": "markdown",
   "metadata": {},
   "source": [
    "# Multilevel Queue\n",
    "* Ready queue is partitioned in to separate queues, e.g.:\n",
    "  * foreground\n",
    "  * background\n",
    "* Process permanently in a given queue\n",
    "* Each queue has its own scheduling algorithm\n",
    "* Scheduling must be done between the queues\n",
    "\n",
    "\n",
    "Q1: T1=4  \n",
    "Q2: Tq=3\n",
    "\n",
    "| Process | CPU                    | Arrival                 | Priority Queue | RT      | WT                          | TT        |\n",
    "| ------- | ---------------------- | ----------------------- | -------------- | ------- | --------------------------- | --------- |\n",
    "| p1      | 10 -> 7 -> 5 -> 2 -> 0 | 0 -> 3-> 12 -> 29 -> 34 | 2              | 0       | 0+(10-3)+(26-12)+(32-29)=24 | (34-0)=34 |\n",
    "| p2      | 7 -> 3 -> 0            | 3 -> 7 -> 10            | 1              | 0       | (3-3)+(7-7)=0               | (10-3)=7  |\n",
    "| p3      | 6 -> 5 -> 2 -> 0       | 4 -> 18 -> 32 -> 36     | 2              | 17-4=13 | (17-4)+(29-18)+(34-32)=26   | (36-4)=32 |\n",
    "| p4      | 5 -> 1 -> 0            | 12 -> 16 -> 17          | 1              | 0       | (12-12)=0                   | (17-12)=5 |\n",
    "| p5      | 8 -> 4 -> 0            | 18 -> 22 -> 26          | 1              | 0       | (18-18)=0                   | (26-18)=8 |\n",
    "\n",
    "<br>\n",
    "\n",
    "| p1  | p2  | p2   | p1    | p4    | p4    | p3    | p5    | p5    | p1    | p1    | p3    | p3    |\n",
    "| --- | --- | ---- | ----- | ----- | ----- | ----- | ----- | ----- | ----- | ----- | ----- | ----- |\n",
    "| 0-3 | 3-7 | 7-10 | 10-12 | 12-16 | 16-17 | 17-18 | 18-22 | 22-26 | 26-29 | 29-30 | 30-33 | 33-35 |\n",
    "\n",
    "\n",
    "\n",
    "\n",
    "\n",
    "\n",
    "\n",
    "\n"
   ]
  },
  {
   "cell_type": "markdown",
   "metadata": {},
   "source": [
    "# Multilevel Feedback Queue\n",
    "* A process can move between the various queues; aging can be implemented this way\n",
    "* Multilevel Feedback Queue scheduler defined by the following parameters:\n",
    "  * Number of queues\n",
    "  * Scheduling algorithms for each queue\n",
    "  * method used to determine when to update a process\n",
    "  * method used to determine when to demote a process\n",
    "  * method used to determine which queue process will enter when that process needs service\n",
    "\n",
    "\n",
    "Q1: Tq=4 (R.R)  \n",
    "Q2: Tq=7 (R.R)  \n",
    "Q3: FCFS\n",
    "\n",
    "| Process | C.P.U   | I/O | CPU | Arrival       | Queue | R.T | W.T | T.T |\n",
    "| ------- | ------- | --- | --- | ------------- | ----- | --- | --- | --- |\n",
    "| p1      | 5->1->0 | 6   | 7   | 0->4->31->44  | 1->2  | -   | -   | -   |\n",
    "| p2      | 4->0    | 3   | 3   | 3->11->17     | 1     | -   | -   | -   |\n",
    "| p3      | 2->0    | 3   | 4   | 4->13->21     | 1     | -   | -   | -   |\n",
    "| p4      | 5->1->0 | 2   | 7   | 7->14->28->37 | 1->2  | -   | -   | -   |\n",
    "| p5      | 3->0    | 2   | 4   | 15->26->30    | 1     | -   | -   | -   |\n",
    "\n",
    "<br>\n",
    "\n",
    "| p1   | p2 (Done) | p3 (Done) | p4     | p2 (CPU) | p3 (CPU) | p5 (Done) | p1 (Done) | p4 (Done) | p5 (CPU) | p4  (CPU) | p1 (CPU) |\n",
    "| ---- | --------- | --------- | ------ | -------- | -------- | --------- | --------- | --------- | -------- | --------- | -------- |\n",
    "| 0->4 | 4->8      | 8->10     | 10->14 | 14->17   | 17->21   | 21->24    | 24->25    | 25->26    | 26->30   | 30->37    | 37->44   |\n",
    "\n",
    "\n",
    "#### In this case\n",
    "* Everyone starts with Level 1\n",
    "* in level 1 we are using RR(4)\n",
    "* If it takes longer than 4, we will move it to the next level, RR(7)\n",
    "    * see p1 or p4\n",
    "* If it takes longer than 7, we will move it to the next level, FCFS\n",
    "* the CPU task is a new task\n",
    "  * new tasks are put in the high level\n",
    "\n",
    "\n",
    "Lottery selection:\n",
    "* 0~99\n",
    "* A: 0~24 (25%)\n",
    "* B: 25~99 (75%)"
   ]
  },
  {
   "cell_type": "markdown",
   "metadata": {},
   "source": [
    "# Threads\n",
    "* Reading: OS essentials Page 163-190\n",
    "* Abstraction of a processor\n",
    "* a *thread of control*\n",
    "### Why threads\n",
    "* A natural means for dealing with concurrency:\n",
    "  * multiprocessor and equally useful on uniprocesors\n",
    "### Processes vs. Threads\n",
    "* Both provide concurrency\n",
    "* What the difference?\n",
    "  * Two single-thread processes vs. one two-threaded process\n",
    "    * First, for an existing process, it is much cheaper to add a thread than creating a new process\n",
    "    * Context switching: it is also cheaper sharing context between two threads in the same process"
   ]
  },
  {
   "cell_type": "markdown",
   "metadata": {},
   "source": [
    "# Matrix Multiplication\n",
    "* C=A*B\n",
    "* A: m x n\n",
    "  * 2 x 5\n",
    "* B: n x p\n",
    "  * 5 x 3\n",
    "* C: ?\n",
    "  * 2 x 3\n",
    "  * m x p\n",
    "\n",
    "\n",
    "What the heck\n",
    "\n",
    "```c\n",
    "#include <stdio.h>\n",
    "#include <pthread.h>\n",
    "#include<string.h>\n",
    "\n",
    "#define M 3\n",
    "#define N 4\n",
    "#define P 5\n",
    "\n",
    "long A [M][N]\n",
    "long B [N][P]\n",
    "long C [M][P]\n",
    "\n",
    "\n",
    "long A[m]n], B[n][p], C[m][p];\n",
    "for (i=0; i < m; i ++) // create worker threads\n",
    "{\n",
    "    pthread_create(&thr[i],0, matmult, i);\n",
    "    // &thr[i] is the id of the thread \n",
    "    // 0 is the \n",
    "    // matmult is the task, \n",
    "    // i is the parameter you need to provice for the function\n",
    "}\n",
    "\n",
    "```"
   ]
  },
  {
   "cell_type": "markdown",
   "metadata": {},
   "source": [
    "# Example Question\n",
    "```c\n",
    "#include \"csapp.h\"\n",
    "#define N 2\n",
    "void *thread(void *vargp);\n",
    "\n",
    "char **ptr; /* Global variable */ // line:conc:sharing:ptrdec\n",
    "\n",
    "int main()\n",
    "{\n",
    "    int i; // stored in the stack for the main thread\n",
    "    pthread_t tid; // stored in the stack for the main thread\n",
    "    char *msgs[N] = {\n",
    "        \"Hello from foo\",\n",
    "        \"Hello from bar\"};\n",
    "    ptr = msgs;                 // since ptr is a global variable, every peer thread can access whatever it points to\n",
    "                                // so now everything can access msgs\n",
    "    for (i = 0; i < N; i++)\n",
    "    {\n",
    "        Pthread_create(&tid, NULL, thread, (void *)i);\n",
    "    }\n",
    "    Pthread_exit(NULL); // waits for all other threads to finsih\n",
    "}\n",
    "\n",
    "void *thread(void *vargp)\n",
    "{\n",
    "    int myid = (int)vargp;\n",
    "    static inc cnt = 0;                                    // line:conc:sharing:cntdec\n",
    "    // so this is static, so it is shared\n",
    "    printf(\"[%d]: %s (cnt=%d)\\n\", myid, ptr[myid], ++cnt); // line:conc:sharing:stacj\n",
    "    return NULL;\n",
    "}\n",
    "```\n",
    "\n",
    "## What is accessed\n",
    "| Variable Instance | Main Thread | Peer Thread 0 | Peer Thread 1 |\n",
    "| ----------------- | ----------- | ------------- | ------------- |\n",
    "| ptr               | yes         | yes           | yes           |\n",
    "| cnt               | no          | yes           | yes           |\n",
    "| msg.m             | yes         | yes           | yes           |\n",
    "| i.m               | yes         | no            | no            |\n",
    "| myid.p0           | no          | yes           | no            |\n",
    "| myid.p1           | no          | no            | yes           |"
   ]
  },
  {
   "cell_type": "markdown",
   "metadata": {},
   "source": [
    "## Thread\n",
    "Has its own:\n",
    "* Thread ID\n",
    "* Stack\n",
    "* Stack Pointer ($rsp)\n",
    "* Program Counter ($rip)\n",
    "* FLAG (Condition Codes)\n",
    "* General Purpose Registers\n",
    "\n",
    "Sharing:\n",
    "* Virtual Address Space\n",
    "* Code\n",
    "* Data\n",
    "* Heap\n",
    "* Open Files"
   ]
  },
  {
   "cell_type": "markdown",
   "metadata": {},
   "source": [
    "```c\n",
    "pthread_create([], 0 task, arg); \n",
    "pthread_join();\n",
    "pthread_exit(); // waits for all other peers to finish\n",
    "```"
   ]
  }
 ],
 "metadata": {
  "kernelspec": {
   "display_name": "Python 3.10.6 ('base')",
   "language": "python",
   "name": "python3"
  },
  "language_info": {
   "name": "python",
   "version": "3.9.13"
  },
  "orig_nbformat": 4,
  "vscode": {
   "interpreter": {
    "hash": "5f8c5c8ab154ffd7b7cf769370d90abd279d12a3d937a702f83e9fc02204b3d3"
   }
  }
 },
 "nbformat": 4,
 "nbformat_minor": 2
}
