{
 "cells": [
  {
   "cell_type": "markdown",
   "metadata": {},
   "source": [
    "# Priority Scheduling\n",
    "* A priority number (integer) is associated with each process\n",
    "* The CPU is allocated to the process with the highest priority (the smallest integer → the highest priority)\n",
    "    * preemptive\n",
    "    * non-preemptive\n",
    "* SJF is priority scheduling where priority is the inverse of predicted next CPU burst time\n",
    "* Problem → Starvation, low priority processes may never execute\n",
    "* solution → aging, as time progresses, increase the priority of the process"
   ]
  },
  {
   "cell_type": "markdown",
   "metadata": {},
   "source": [
    "# Process states:\n",
    "* FIFO, SJO, SRT, Priority, Round Robin\n",
    "* new: Process being created\n",
    "* running: instructions being executed\n",
    "* waiting: the process is waiting for an event to occur \n",
    "* ready: wayiting to be assigned to a processir\n",
    "* Terminated: The process has finished execution\n",
    "\n",
    "Note: Short-term scheduler: selects from among the processes in queue and allocates the CPU to one of them"
   ]
  },
  {
   "cell_type": "markdown",
   "metadata": {},
   "source": [
    "# CPU scheduling decisions:\n",
    "1. switches from running to waiting state, ex. I/O request or invocation of the wait()\n",
    "1. Switches from running to ready\n",
    "1. switches from waiting to ready\n",
    "1. terminates\n",
    "    * scheduling for 1 and 4 is nonpreemptive and cooperative\n",
    "    * Once a process starts running, keeps running until blocked or finished\n",
    "    * All other scheduling is preemptive"
   ]
  },
  {
   "cell_type": "markdown",
   "metadata": {},
   "source": [
    "# Scheduling Criteria:\n",
    "* Throughput: # of processes that complete per unit of time\n",
    "* Turnaround Time: Amount of time to execute a process\n",
    "* waiting time: Amount of time a process is waiting in queue\n",
    "* Response Time: amount of time to get the first response"
   ]
  },
  {
   "cell_type": "markdown",
   "metadata": {},
   "source": [
    "### Gantt Chart: type of bar chart that illustrates a project schedule\n",
    "\n",
    "<h5>Ex.</h5>\n",
    "\n",
    "Process:\n",
    "* p1  24\n",
    "* p2  3\n",
    "* p3  3\n",
    "\n",
    "|C.P.U Burst| P1|P2|P3|\n",
    "|----------|---------|-|-|\n",
    "|I/O|24|27|30|\n",
    "\n",
    "waiting time: P1 = 0; p2 = 24; p3 = 27\n",
    "\n",
    "new ex.\n",
    "\n",
    "|Process|C.P.U|I/O|C.P.U|Arrival|=>||R.S|W.T|T.T|\n",
    "|--|--|--|--|--|-|-|-|-|-|\n",
    "|P1|5|6|7|0||11|0|(0-0)+(16-11)=5|23|\n",
    "|P2|4|3|3|3||12|5-3=2|(5-3)+(23-12)=13|26-3=23|\n",
    "|P3|2|3|4|4||14|9-4=5|(9-4)+(26-14)=17|30-4=26|\n",
    "|P4|5|2|7|7||18|11-7=4|(11-7)+(33-18)=19|40-7=33|\n",
    "|P5|3|2|4|15||35|30-15=15|(30-15)+(40-35)=20|44-15|\n",
    "\n",
    "Produces this Gantt chart:\n",
    "||P1|P2|P3|P4|P1|P2|P3|P5|P4|P5|End|\n",
    "|-|-------|-|-|-|-|-|-|-|-|-|-|\n",
    "|I/O|0|5|9|11|16|23|26|30|33|40|44|\n",
    "\n"
   ]
  },
  {
   "cell_type": "markdown",
   "metadata": {},
   "source": [
    "# Round Robin\n",
    "* preemptive FIFO\n",
    "* Time quantum q\n",
    "    * When large q -> FIFO\n",
    "    * small q -> q should be larger than context switching\n",
    "* high avg. turnaround, but better response"
   ]
  },
  {
   "cell_type": "markdown",
   "metadata": {},
   "source": [
    "### Round Robin Example\n",
    "|process|arival|cpu|RT|WT|TT|\n",
    "|-|-|-|-|-|-|\n",
    "|p1|0->5;13->(16)|8->3->0|0|0+(13-5)=8 | 16-0=16|\n",
    "|p2|3->(8)| 3->0| 5-3=2|2 | 8-3=5|\n",
    "|p3|4->13; 26->(31)|10->5->0|8-4=4 |4+(26-13)=17 |31-4=27 |\n",
    "|p4|6->21; 31->(35)|9->4->0| 16-6=10|10+(31-21)=20 |35-6=29 |\n",
    "|p5|11-26; 35->(37)|7->2->0|21-11=10 |10+(35-26)=19 |37-11=26 |\n",
    "\n",
    "|p1|p2|p3|p1|p4|p5|p3|\n",
    "|-|-|-|-|-|-|-|\n",
    "|0->5|5->8|8->13|13->16|16->21|21->26|26->31|31->35|35->37|"
   ]
  },
  {
   "cell_type": "markdown",
   "metadata": {},
   "source": [
    "Response Time:  \n",
    "* CPU - Arrival  \n",
    "\n",
    "Wait Time:  \n",
    "* RT + Time waiting while started yet unfinished\n",
    "\n",
    "Turnaround Time\n",
    "* End - Arrival  "
   ]
  },
  {
   "cell_type": "markdown",
   "metadata": {},
   "source": [
    "# Multilevel Queue\n",
    "* Ready queue is partitioned in to separate queues, eg:\n",
    "  * foreground\n",
    "  * background\n",
    "* Process permanently in a given queue\n",
    "* Each queue has its own scheduling algorithm\n",
    "* Scheduling must be done between the queues\n",
    "\n",
    "\n",
    "Q1: T1=4  \n",
    "Q2: Tq=3\n",
    "\n",
    "| Process | CPU                    | Arrival                 | Priority Queue | RT      | WT                          | TT        |\n",
    "| ------- | ---------------------- | ----------------------- | -------------- | ------- | --------------------------- | --------- |\n",
    "| p1      | 10 -> 7 -> 5 -> 2 -> 0 | 0 -> 3-> 12 -> 29 -> 34 | 2              | 0       | 0+(10-3)+(26-12)+(32-29)=24 | (34-0)=34 |\n",
    "| p2      | 7 -> 3 -> 0            | 3 -> 7 -> 10            | 1              | 0       | (3-3)+(7-7)=0               | (10-3)=7  |\n",
    "| p3      | 6 -> 5 -> 2 -> 0       | 4 -> 18 -> 32 -> 36     | 2              | 17-4=13 | (17-4)+(29-18)+(34-32)=26   | (36-4)=32 |\n",
    "| p4      | 5 -> 1 -> 0            | 12 -> 16 -> 17          | 1              | 0       | (12-12)=0                   | (17-12)=5 |\n",
    "| p5      | 8 -> 4 -> 0            | 18 -> 22 -> 26          | 1              | 0       | (18-18)=0                   | (26-18)=8 |\n",
    "\n",
    "<br>\n",
    "\n",
    "| p1  | p2  | p2   | p1    | p4    | p4    | p3    | p5    | p5    | p1    | p1    | p3    | p3    |\n",
    "| --- | --- | ---- | ----- | ----- | ----- | ----- | ----- | ----- | ----- | ----- | ----- | ----- |\n",
    "| 0-3 | 3-7 | 7-10 | 10-12 | 12-16 | 16-17 | 17-18 | 18-22 | 22-26 | 26-29 | 29-30 | 30-33 | 33-35 |\n",
    "\n",
    "\n",
    "\n",
    "\n",
    "\n",
    "\n",
    "\n",
    "\n"
   ]
  },
  {
   "cell_type": "markdown",
   "metadata": {},
   "source": [
    "# Multilevel Feedback Queue\n",
    "* A process can move between the various queues; aging can be implemented this way\n",
    "* Multilevel Feedback Queue scheduler defined by the following parameters:\n",
    "  * Number of queues\n",
    "  * Scheduling algorithms for each queue\n",
    "  * method used to determine when to update a process\n",
    "  * method used to determine when to demote a process\n",
    "  * method used to determine which queue process will enter when that process needs service\n",
    "\n",
    "\n",
    "Q1: Tq=4 (R.R)  \n",
    "Q2: Tq=7 (R.R)  \n",
    "Q3: FCFS\n",
    "\n",
    "| Process | C.P.U | I/O | CPU | Arrival | Queue                                | R.T | W.T | T.T |\n",
    "| ------- | ----- | --- | --- | ------- | ------------------------------------ | --- | --- | --- |\n",
    "| p1      | 5->1  | 6   | 7   | 0->4    | 1->2(Since took longer than 4 in Q1) | -   | -   | -   |\n",
    "| p2      | 4->0  | 3   | 3   | 3 -> 11       | 1                                    | -   | -   | -   |\n",
    "| p3      | 2     | 3   | 4   | 4       | 1                                    | -   | -   | -   |\n",
    "| p4      | 5     | 2   | 7   | 7       | 1                                    | -   | -   | -   |\n",
    "| p5      | 3     | 2   | 4   | 15      | 1                                    | -   | -   | -   |\n",
    "\n",
    "p1 p2 p2s(I/O)\n",
    "0->4 4->8 8->11"
   ]
  }
 ],
 "metadata": {
  "kernelspec": {
   "display_name": "Python 3.10.6 ('base')",
   "language": "python",
   "name": "python3"
  },
  "language_info": {
   "name": "python",
   "version": "3.9.13"
  },
  "orig_nbformat": 4,
  "vscode": {
   "interpreter": {
    "hash": "5f8c5c8ab154ffd7b7cf769370d90abd279d12a3d937a702f83e9fc02204b3d3"
   }
  }
 },
 "nbformat": 4,
 "nbformat_minor": 2
}
