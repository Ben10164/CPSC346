{
 "cells": [
  {
   "cell_type": "markdown",
   "metadata": {},
   "source": [
    "# Cache\n",
    "1. 1-Way (Index)\n",
    "2. n-way (Set)\n",
    "3. Full-associative\n",
    "4. Hit/Miss Ratio"
   ]
  },
  {
   "cell_type": "markdown",
   "metadata": {},
   "source": [
    "### Direct mapped cache\n",
    "* A memory block maps to exactly one cache block\n",
    "\n",
    "### Fully Associative\n",
    "* Allow a given block to go into any cache entry\n",
    "* Requires all entries to be searched at once\n",
    "  * comparator per entry, making it very expensive\n",
    "\n",
    "### n-way set associative\n",
    "* each set contains n entries\n",
    "* block address determines which set\n",
    "  * (Block address) module (# of sets in cache)\n",
    "* Search all entries in a given set at once\n",
    "  * n comparators (less expensive)\n"
   ]
  },
  {
   "cell_type": "markdown",
   "metadata": {},
   "source": [
    "### Hit/Miss Ratio\n",
    "* num blocks * block size = size of cache\n",
    "* Hit ratio = #hit/(all)\n",
    "* Miss ratio = 1-hit ratio\n",
    "* Avg access time: Hit time + Miss ratio * Miss penalty\n",
    "* Miss penalty = time wasted after miss in cache"
   ]
  },
  {
   "cell_type": "markdown",
   "metadata": {},
   "source": [
    "* Different memory address, but the same block address - Replacement (still considered a miss)\n",
    "\n",
    "\n",
    "Direct map: \n",
    "N way set: Block Address % # of sets"
   ]
  },
  {
   "cell_type": "markdown",
   "metadata": {},
   "source": [
    "Block Size = 32 Bytes"
   ]
  }
 ],
 "metadata": {
  "kernelspec": {
   "display_name": "Python 3.9.15 ('base')",
   "language": "python",
   "name": "python3"
  },
  "language_info": {
   "name": "python",
   "version": "3.9.15"
  },
  "orig_nbformat": 4,
  "vscode": {
   "interpreter": {
    "hash": "5f8c5c8ab154ffd7b7cf769370d90abd279d12a3d937a702f83e9fc02204b3d3"
   }
  }
 },
 "nbformat": 4,
 "nbformat_minor": 2
}
